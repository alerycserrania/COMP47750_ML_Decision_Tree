{
 "cells": [
  {
   "cell_type": "markdown",
   "metadata": {},
   "source": [
    "Decision Tree algorithm"
   ]
  },
  {
   "cell_type": "code",
   "execution_count": 239,
   "metadata": {},
   "outputs": [],
   "source": [
    "import numpy as np\n",
    "import pandas as pd\n",
    "from sklearn.preprocessing import OneHotEncoder\n",
    "from sklearn.tree import DecisionTreeClassifier\n",
    "from sklearn.base import BaseEstimator, ClassifierMixin\n",
    "from sklearn.tree import plot_tree\n",
    "from typing import Any"
   ]
  },
  {
   "cell_type": "code",
   "execution_count": 240,
   "metadata": {},
   "outputs": [],
   "source": [
    "class MyDecisionTree(BaseEstimator, ClassifierMixin):\n",
    "\n",
    "    class TreeNode:\n",
    "        def __init__(\n",
    "            self,\n",
    "            entropy: float,\n",
    "            cl_counts: np.ndarray,\n",
    "            cl_names: np.ndarray,\n",
    "            feature_name: Any,\n",
    "            feature_index: int\n",
    "        ):\n",
    "            self.entropy = entropy\n",
    "            self.cl_counts = cl_counts\n",
    "            self.cl_names = cl_names\n",
    "            self.feature_name = feature_name\n",
    "            self.feature_index = feature_index\n",
    "            self.cl_name = None\n",
    "            self.children = []\n",
    "\n",
    "        def print_tree(self, indent=0):\n",
    "            print((\"\\t\" * indent) + f\"({self.entropy}, {self.cl_counts}, {self.cl_names}, {self.feature_index}, {self.feature_name}, {self.cl_name})\")\n",
    "            for child in self.children:\n",
    "                child.print_tree(indent+1)\n",
    "\n",
    "        def is_leaf(self):\n",
    "            return len(self.children) == 0\n",
    "\n",
    "\n",
    "    def fit(self, x_train, y_train):\n",
    "        self.n_features_ = x_train.shape[1]\n",
    "\n",
    "        class_names, class_counts = np.unique(y_train, return_counts=True)\n",
    "        \n",
    "        self.root_ = MyDecisionTree.TreeNode(\n",
    "            entropy=self._entropy(y_train),\n",
    "            cl_counts=class_counts,\n",
    "            cl_names=class_names,\n",
    "            feature_name=None,\n",
    "            feature_index=None\n",
    "        )\n",
    "\n",
    "        self.root_.children = self._id3(\n",
    "            self.root_,\n",
    "            np.array(x_train),\n",
    "            np.array(y_train),\n",
    "        )\n",
    "\n",
    "        return self\n",
    "\n",
    "    def predict(self, x_tests):\n",
    "        return np.array([self._predict_one(self.root_, x_test) for x_test in x_tests])\n",
    "\n",
    "    def _predict_one(self, parent: TreeNode, x_test: np.ndarray):\n",
    "        if parent.is_leaf():\n",
    "            return parent.cl_name\n",
    "        else:\n",
    "            next_child = next(child for child in parent.children if child.feature_name == x_test[child.feature_index])\n",
    "            return self._predict_one(next_child, x_test)\n",
    "\n",
    "    def _id3(self, parent: TreeNode, xs: np.ndarray, ys: np.ndarray): \n",
    "        if len(parent.cl_counts) == 1:\n",
    "            parent.cl_name = parent.cl_names[0]\n",
    "            return []\n",
    "\n",
    "        igs = []\n",
    "        for ift in range(self.n_features_):\n",
    "            ig = 0\n",
    "            for feature_name in np.unique(xs[:, ift]):\n",
    "                ys_part = ys[xs[:, ift] == feature_name]\n",
    "                ig += self._entropy(ys_part) * ys_part.size / ys.size\n",
    "            igs.append(parent.entropy - ig)\n",
    "        \n",
    "        ift_max = np.argmax(igs)\n",
    "\n",
    "        children = []\n",
    "        for feature_name in np.unique(xs[:, ift_max]):\n",
    "            xs_part = xs[xs[:, ift_max] == feature_name]\n",
    "            ys_part = ys[xs[:, ift_max] == feature_name]\n",
    "            class_names, class_counts = np.unique(ys_part, return_counts=True)\n",
    "            node = MyDecisionTree.TreeNode(\n",
    "                entropy=self._entropy(ys_part),\n",
    "                cl_counts=class_counts,\n",
    "                cl_names=class_names,\n",
    "                feature_name=feature_name,\n",
    "                feature_index=ift_max,\n",
    "            )\n",
    "            node.children = self._id3(node, xs_part, ys_part)\n",
    "            children.append(node)\n",
    "\n",
    "        return children\n",
    "\n",
    "    def _entropy(self, ys):\n",
    "        ps = np.unique(ys, return_counts=True)[1]\n",
    "        ps = np.array([p for p in ps if p != 0])\n",
    "        ps = ps / ys.size\n",
    "        return -np.sum(ps*np.log2(ps))\n"
   ]
  },
  {
   "cell_type": "code",
   "execution_count": 241,
   "metadata": {},
   "outputs": [],
   "source": [
    "restaurant = pd.read_csv('restaurant.csv', header = 0, index_col = 0)\n",
    "y = restaurant.pop('WillWait?').values\n",
    "x = restaurant.values"
   ]
  },
  {
   "cell_type": "code",
   "execution_count": 242,
   "metadata": {},
   "outputs": [
    {
     "name": "stdout",
     "output_type": "stream",
     "text": [
      "(1.0, [6 6], ['No' 'Yes'], None, None, None)\n",
      "\t(0.9182958340544896, [4 2], ['No' 'Yes'], 4, Full, None)\n",
      "\t\t(-0.0, [2], ['No'], 3, No, No)\n",
      "\t\t(1.0, [2 2], ['No' 'Yes'], 3, Yes, None)\n",
      "\t\t\t(-0.0, [1], ['Yes'], 8, Burger, Yes)\n",
      "\t\t\t(-0.0, [1], ['No'], 8, Italian, No)\n",
      "\t\t\t(1.0, [1 1], ['No' 'Yes'], 8, Thai, None)\n",
      "\t\t\t\t(-0.0, [1], ['No'], 2, No, No)\n",
      "\t\t\t\t(-0.0, [1], ['Yes'], 2, Yes, Yes)\n",
      "\t(-0.0, [2], ['No'], 4, None, No)\n",
      "\t(-0.0, [4], ['Yes'], 4, Some, Yes)\n",
      "['Yes' 'No' 'Yes' 'Yes' 'No' 'Yes' 'No' 'Yes' 'No' 'No' 'No' 'Yes']\n",
      "['Yes' 'No' 'Yes' 'Yes' 'No' 'Yes' 'No' 'Yes' 'No' 'No' 'No' 'Yes']\n"
     ]
    }
   ],
   "source": [
    "mdt = MyDecisionTree()\n",
    "mdt.fit(x, y)\n",
    "\n",
    "mdt.root_.print_tree()\n",
    "print(mdt.predict(x))\n",
    "print(y)"
   ]
  },
  {
   "cell_type": "code",
   "execution_count": 243,
   "metadata": {},
   "outputs": [
    {
     "data": {
      "text/plain": [
       "[Text(239.14285714285714, 199.32, 'X[10] <= 0.5\\ngini = 0.5\\nsamples = 12\\nvalue = [6, 6]'),\n",
       " Text(191.31428571428572, 163.07999999999998, 'X[6] <= 0.5\\ngini = 0.375\\nsamples = 8\\nvalue = [6, 2]'),\n",
       " Text(143.4857142857143, 126.83999999999999, 'X[18] <= 0.5\\ngini = 0.5\\nsamples = 4\\nvalue = [2, 2]'),\n",
       " Text(95.65714285714286, 90.6, 'X[11] <= 0.5\\ngini = 0.444\\nsamples = 3\\nvalue = [2, 1]'),\n",
       " Text(47.82857142857143, 54.359999999999985, 'gini = 0.0\\nsamples = 1\\nvalue = [1, 0]'),\n",
       " Text(143.4857142857143, 54.359999999999985, 'X[23] <= 0.5\\ngini = 0.5\\nsamples = 2\\nvalue = [1, 1]'),\n",
       " Text(95.65714285714286, 18.119999999999976, 'gini = 0.0\\nsamples = 1\\nvalue = [1, 0]'),\n",
       " Text(191.31428571428572, 18.119999999999976, 'gini = 0.0\\nsamples = 1\\nvalue = [0, 1]'),\n",
       " Text(191.31428571428572, 90.6, 'gini = 0.0\\nsamples = 1\\nvalue = [0, 1]'),\n",
       " Text(239.14285714285714, 126.83999999999999, 'gini = 0.0\\nsamples = 4\\nvalue = [4, 0]'),\n",
       " Text(286.9714285714286, 163.07999999999998, 'gini = 0.0\\nsamples = 4\\nvalue = [0, 4]')]"
      ]
     },
     "execution_count": 243,
     "metadata": {},
     "output_type": "execute_result"
    },
    {
     "data": {
      "image/png": "[encoded data removed]",
      "text/plain": [
       "<Figure size 432x288 with 1 Axes>"
      ]
     },
     "metadata": {
      "needs_background": "light"
     },
     "output_type": "display_data"
    }
   ],
   "source": [
    "mdt = DecisionTreeClassifier(criterion='gini')\n",
    "mdt.fit(OneHotEncoder().fit_transform(x), y)\n",
    "plot_tree(mdt)"
   ]
  }
 ],
 "metadata": {
  "interpreter": {
   "hash": "33fa5f6e416b87f8609131718fa65b71d8145a1257be68be3d404c8842433359"
  },
  "kernelspec": {
   "display_name": "Python 3.8.8 64-bit ('base': conda)",
   "language": "python",
   "name": "python3"
  },
  "language_info": {
   "codemirror_mode": {
    "name": "ipython",
    "version": 3
   },
   "file_extension": ".py",
   "mimetype": "text/x-python",
   "name": "python",
   "nbconvert_exporter": "python",
   "pygments_lexer": "ipython3",
   "version": "3.8.8"
  },
  "orig_nbformat": 4
 },
 "nbformat": 4,
 "nbformat_minor": 2
}
